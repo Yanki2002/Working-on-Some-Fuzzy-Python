{
 "cells": [
  {
   "cell_type": "markdown",
   "id": "de32b10f-1905-43e3-8279-b30fa3840a3e",
   "metadata": {},
   "source": [
    "# Data Science Tools and Ecosystem"
   ]
  },
  {
   "cell_type": "markdown",
   "id": "ddf3945a-e4b6-481e-b0d4-b7bfe9e54979",
   "metadata": {},
   "source": [
    "In this notebook, Data Science Tools and Ecosystem are summarized.\n",
    "\n"
   ]
  },
  {
   "cell_type": "markdown",
   "id": "c4d8120a-3ca6-424c-9eec-b64c0009fe41",
   "metadata": {},
   "source": [
    "Some of the popular languages that Data Scientists use are:"
   ]
  },
  {
   "cell_type": "markdown",
   "id": "49d5177d-5e29-495a-a482-2adbe89f1ce0",
   "metadata": {},
   "source": [
    "1. Python\n",
    "2. R\n",
    "3. SQL\n",
    "4. Julia\n",
    "5. Scala"
   ]
  },
  {
   "cell_type": "markdown",
   "id": "0987efbe-a4b8-4978-b687-ad49f4d16954",
   "metadata": {},
   "source": [
    "Some of the commonly used libraries used by Data Scientists include:"
   ]
  },
  {
   "cell_type": "markdown",
   "id": "c36b5fe3-d12b-4586-ab5c-2d08ca97fe60",
   "metadata": {},
   "source": [
    "1. Pandas - For data manipulation and analysis\n",
    "2. NumPy - For numerical computing and array operations\n",
    "3. Matplotlib - For data visualization and plotting\n",
    "4. Scikit-learn - For machine learning algorithms\n",
    "5. TensorFlow - For deep learning applications"
   ]
  },
  {
   "cell_type": "markdown",
   "id": "a292fc29-4cfb-436a-9232-8241c830cf03",
   "metadata": {},
   "source": [
    "### Data Science Tools"
   ]
  },
  {
   "cell_type": "markdown",
   "id": "bacaa1f0-9601-45af-aabd-d56cc7ee28b9",
   "metadata": {},
   "source": [
    "| Data Science Tools |\n",
    "|--------------------|\n",
    "| Jupyter Notebook   |\n",
    "| RStudio            |\n",
    "| Apache Zeppelin    |\n",
    "| VS Code            |"
   ]
  },
  {
   "cell_type": "markdown",
   "id": "e85b6467-b766-4c11-aad7-0bd3b12af2e6",
   "metadata": {},
   "source": [
    "|Data Science Tools|\n",
    "|------------------|\n",
    "|Jupyter Notebook  |\n",
    "|RStudio           |\n",
    "|Apache Zeppelin   |\n",
    "|VS Code           |"
   ]
  },
  {
   "cell_type": "markdown",
   "id": "94a085b2-89ef-4549-a86b-b4a2e268fde8",
   "metadata": {},
   "source": [
    "---------------------------"
   ]
  },
  {
   "cell_type": "markdown",
   "id": "b3d9d0d1-9f10-4292-9c70-106e28b1057a",
   "metadata": {},
   "source": [
    "### Below are a few examples of evaluating arithmetic expressions in Python.\n",
    "\n"
   ]
  },
  {
   "cell_type": "markdown",
   "id": "d44a3cb9-e507-4cd9-aa0f-7ebf64f68941",
   "metadata": {},
   "source": [
    "---------------------------------"
   ]
  },
  {
   "cell_type": "code",
   "execution_count": 5,
   "id": "0e750d0f-106b-4f41-a2d1-eea6317febad",
   "metadata": {},
   "outputs": [],
   "source": [
    "#This a simple arithmetic expression to mutiply then add integers"
   ]
  },
  {
   "cell_type": "code",
   "execution_count": 6,
   "id": "ffec89b7-92a5-49b9-9fe6-135cfcf62a22",
   "metadata": {},
   "outputs": [
    {
     "data": {
      "text/plain": [
       "17"
      ]
     },
     "execution_count": 6,
     "metadata": {},
     "output_type": "execute_result"
    }
   ],
   "source": [
    "result = 3*4+5\n",
    "result"
   ]
  },
  {
   "cell_type": "markdown",
   "id": "c36f2610-bed3-4111-9bd7-15c32b7266eb",
   "metadata": {},
   "source": [
    "---------"
   ]
  },
  {
   "cell_type": "markdown",
   "id": "0a7ae788-17b5-462a-8854-1f00ffc2eeb1",
   "metadata": {},
   "source": [
    "#### This will convert 200 minutes to hours by diving by 60"
   ]
  },
  {
   "cell_type": "code",
   "execution_count": 10,
   "id": "e343d425-c45f-4637-a1fe-20f770d272f1",
   "metadata": {},
   "outputs": [
    {
     "name": "stdin",
     "output_type": "stream",
     "text": [
      " 200\n"
     ]
    },
    {
     "data": {
      "text/plain": [
       "3"
      ]
     },
     "execution_count": 10,
     "metadata": {},
     "output_type": "execute_result"
    }
   ],
   "source": [
    "minutes = int(input())\n",
    "hours = int(minutes/60)\n",
    "hours"
   ]
  },
  {
   "cell_type": "code",
   "execution_count": null,
   "id": "4fc7fe01-4627-4aa2-b900-4b8ede53a218",
   "metadata": {},
   "outputs": [],
   "source": []
  }
 ],
 "metadata": {
  "kernelspec": {
   "display_name": "Python 3 (ipykernel)",
   "language": "python",
   "name": "python3"
  },
  "language_info": {
   "codemirror_mode": {
    "name": "ipython",
    "version": 3
   },
   "file_extension": ".py",
   "mimetype": "text/x-python",
   "name": "python",
   "nbconvert_exporter": "python",
   "pygments_lexer": "ipython3",
   "version": "3.10.11"
  }
 },
 "nbformat": 4,
 "nbformat_minor": 5
}
